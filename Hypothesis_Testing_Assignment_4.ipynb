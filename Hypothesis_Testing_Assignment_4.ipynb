{
 "cells": [
  {
   "cell_type": "markdown",
   "metadata": {},
   "source": [
    "---\n",
    "\n",
    "_You are currently looking at **version 1.1** of this notebook. To download notebooks and datafiles, as well as get help on Jupyter notebooks in the Coursera platform, visit the [Jupyter Notebook FAQ](https://www.coursera.org/learn/python-data-analysis/resources/0dhYG) course resource._\n",
    "\n",
    "---"
   ]
  },
  {
   "cell_type": "code",
   "execution_count": null,
   "metadata": {},
   "outputs": [],
   "source": [
    "import pandas as pd\n",
    "import numpy as np\n",
    "from scipy.stats import ttest_ind"
   ]
  },
  {
   "cell_type": "markdown",
   "metadata": {},
   "source": [
    "# Assignment 4 - Hypothesis Testing\n",
    "This assignment requires more individual learning than previous assignments - you are encouraged to check out the [pandas documentation](http://pandas.pydata.org/pandas-docs/stable/) to find functions or methods you might not have used yet, or ask questions on [Stack Overflow](http://stackoverflow.com/) and tag them as pandas and python related. And of course, the discussion forums are open for interaction with your peers and the course staff.\n",
    "\n",
    "Definitions:\n",
    "* A _quarter_ is a specific three month period, Q1 is January through March, Q2 is April through June, Q3 is July through September, Q4 is October through December.\n",
    "* A _recession_ is defined as starting with two consecutive quarters of GDP decline, and ending with two consecutive quarters of GDP growth.\n",
    "* A _recession bottom_ is the quarter within a recession which had the lowest GDP.\n",
    "* A _university town_ is a city which has a high percentage of university students compared to the total population of the city.\n",
    "\n",
    "**Hypothesis**: University towns have their mean housing prices less effected by recessions. Run a t-test to compare the ratio of the mean price of houses in university towns the quarter before the recession starts compared to the recession bottom. (`price_ratio=quarter_before_recession/recession_bottom`)\n",
    "\n",
    "The following data files are available for this assignment:\n",
    "* From the [Zillow research data site](http://www.zillow.com/research/data/) there is housing data for the United States. In particular the datafile for [all homes at a city level](http://files.zillowstatic.com/research/public/City/City_Zhvi_AllHomes.csv), ```City_Zhvi_AllHomes.csv```, has median home sale prices at a fine grained level.\n",
    "* From the Wikipedia page on college towns is a list of [university towns in the United States](https://en.wikipedia.org/wiki/List_of_college_towns#College_towns_in_the_United_States) which has been copy and pasted into the file ```university_towns.txt```.\n",
    "* From Bureau of Economic Analysis, US Department of Commerce, the [GDP over time](http://www.bea.gov/national/index.htm#gdp) of the United States in current dollars (use the chained value in 2009 dollars), in quarterly intervals, in the file ```gdplev.xls```. For this assignment, only look at GDP data from the first quarter of 2000 onward.\n",
    "\n",
    "Each function in this assignment below is worth 10%, with the exception of ```run_ttest()```, which is worth 50%."
   ]
  },
  {
   "cell_type": "code",
   "execution_count": null,
   "metadata": {},
   "outputs": [],
   "source": [
    "# Use this dictionary to map state names to two letter acronyms\n",
    "states = {'OH': 'Ohio', 'KY': 'Kentucky', 'AS': 'American Samoa', 'NV': 'Nevada', 'WY': 'Wyoming', 'NA': 'National', 'AL': 'Alabama', 'MD': 'Maryland', 'AK': 'Alaska', 'UT': 'Utah', 'OR': 'Oregon', 'MT': 'Montana', 'IL': 'Illinois', 'TN': 'Tennessee', 'DC': 'District of Columbia', 'VT': 'Vermont', 'ID': 'Idaho', 'AR': 'Arkansas', 'ME': 'Maine', 'WA': 'Washington', 'HI': 'Hawaii', 'WI': 'Wisconsin', 'MI': 'Michigan', 'IN': 'Indiana', 'NJ': 'New Jersey', 'AZ': 'Arizona', 'GU': 'Guam', 'MS': 'Mississippi', 'PR': 'Puerto Rico', 'NC': 'North Carolina', 'TX': 'Texas', 'SD': 'South Dakota', 'MP': 'Northern Mariana Islands', 'IA': 'Iowa', 'MO': 'Missouri', 'CT': 'Connecticut', 'WV': 'West Virginia', 'SC': 'South Carolina', 'LA': 'Louisiana', 'KS': 'Kansas', 'NY': 'New York', 'NE': 'Nebraska', 'OK': 'Oklahoma', 'FL': 'Florida', 'CA': 'California', 'CO': 'Colorado', 'PA': 'Pennsylvania', 'DE': 'Delaware', 'NM': 'New Mexico', 'RI': 'Rhode Island', 'MN': 'Minnesota', 'VI': 'Virgin Islands', 'NH': 'New Hampshire', 'MA': 'Massachusetts', 'GA': 'Georgia', 'ND': 'North Dakota', 'VA': 'Virginia'}"
   ]
  },
  {
   "cell_type": "code",
   "execution_count": null,
   "metadata": {
    "umich_part_id": "021",
    "umich_partlist_id": "004"
   },
   "outputs": [],
   "source": [
    "import numpy as np\n",
    "import pandas as pd\n",
    "import timeit\n",
    "\n",
    "def get_list_of_university_towns():\n",
    "    #u_town = pd.read_fwf('university_towns.txt', header = None)\n",
    "    ########\n",
    "    u_town = open('university_towns.txt')\n",
    "    df=pd.DataFrame(columns=['State','RegionName'])\n",
    "    for u_town in u_town:\n",
    "        if '[edit]' in u_town:\n",
    "            state=u_town.replace('[edit]','').strip()\n",
    "            continue\n",
    "        \n",
    "        if '(' in u_town:\n",
    "            region=u_town[:u_town.find('(')-1].strip()\n",
    "        else:\n",
    "            region=u_town.strip()\n",
    "    \n",
    "        df=df.append({'State':state,'RegionName':region}, ignore_index=True)\n",
    "    \n",
    "    \n",
    "    #'''Returns a DataFrame of towns and the states they are in from the \n",
    "    #university_towns.txt list. The format of the DataFrame should be:\n",
    "    #DataFrame( [ [\"Michigan\", \"Ann Arbor\"], [\"Michigan\", \"Yipsilanti\"] ], \n",
    "    #columns=[\"State\", \"RegionName\"]  )\n",
    "    \n",
    "   # The following cleaning needs to be done:\n",
    "\n",
    "    #1. For \"State\", removing characters from \"[\" to the end.\n",
    "    #2. For \"RegionName\", when applicable, removing every character from \" (\" to the end.\n",
    "    #3. Depending on how you read the data, you may need to remove newline character '\\n'. '''\n",
    "    \n",
    "\n",
    "   \n",
    "\n",
    "    return df\n",
    "#get_list_of_university_towns()\n"
   ]
  },
  {
   "cell_type": "code",
   "execution_count": null,
   "metadata": {
    "umich_part_id": "022",
    "umich_partlist_id": "004"
   },
   "outputs": [],
   "source": [
    "def get_recession_start():\n",
    "    '''Returns the year and quarter of the recession start time as a \n",
    "    string value in a format such as 2005q3'''\n",
    "    gdp = pd.read_excel('gdplev.xls', skiprows=219) #Skip all the way to year of 2000\n",
    "    mapping = {gdp.columns[4]:'Quater', gdp.columns[5]:'GDP'} \n",
    "    gdp = gdp.rename(columns = mapping) #change name of columns\n",
    "    gdp=gdp.drop(['Unnamed: 0','Unnamed: 1','Unnamed: 3','Unnamed: 7','Unnamed: 2', 12323.3], axis=1) #Drop not use cols\n",
    "    \n",
    "    for i in range(2, len(gdp)):\n",
    "        #compare GDP of  i-2 with i-1 for decline AND i-1 with i for incline\n",
    "        if (gdp.iloc[i-2].GDP > gdp.iloc[i-1].GDP) and (gdp.iloc[i-1].GDP > gdp.iloc[i].GDP):\n",
    "            return gdp.iloc[i-2].Quater\n",
    "\n",
    "get_recession_start()\n",
    "\n",
    "\n",
    "\n"
   ]
  },
  {
   "cell_type": "code",
   "execution_count": null,
   "metadata": {},
   "outputs": [],
   "source": [
    "def get_recession_end():\n",
    "    '''Returns the year and quarter of the recession end time as a \n",
    "    string value in a format such as 2005q3'''\n",
    "    gdp = pd.read_excel('gdplev.xls', skiprows=219) #Skip all the way to year of 2000\n",
    "    mapping = {gdp.columns[4]:'Quater', gdp.columns[5]:'GDP'} \n",
    "    gdp = gdp.rename(columns = mapping) #change name of columns\n",
    "    gdp=gdp.drop(['Unnamed: 0','Unnamed: 1','Unnamed: 3','Unnamed: 7','Unnamed: 2', 12323.3], axis=1) #Drop not use co\n",
    "    \n",
    "    start_q = get_recession_start()\n",
    "    gdp = gdp[gdp['Quater'] >= start_q]\n",
    "    for i in range(2,len(gdp)):\n",
    "        if (gdp.iloc[i-2].GDP < gdp.iloc[i-1].GDP) and (gdp.iloc[i-1].GDP < gdp.iloc[i].GDP):          \n",
    "            return (gdp.iloc[i].Quater)\n",
    "    #return gdp\n",
    "get_recession_end()\n"
   ]
  },
  {
   "cell_type": "code",
   "execution_count": null,
   "metadata": {
    "umich_part_id": "024",
    "umich_partlist_id": "004"
   },
   "outputs": [],
   "source": [
    "def get_recession_bottom():\n",
    "    '''Returns the year and quarter of the recession bottom time as a \n",
    "    string value in a format such as 2005q3'''\n",
    "    gdp = pd.read_excel('gdplev.xls', skiprows=219) #Skip all the way to year of 2000\n",
    "    mapping = {gdp.columns[4]:'Quater', gdp.columns[5]:'GDP'} \n",
    "    gdp = gdp.rename(columns = mapping) #change name of columns\n",
    "    gdp=gdp.drop(['Unnamed: 0','Unnamed: 1','Unnamed: 3','Unnamed: 7','Unnamed: 2', 12323.3], axis=1) #Drop not use cols\n",
    "    \n",
    "    start_q = get_recession_start()\n",
    "    end_q = get_recession_end()\n",
    "    \n",
    "    gdp_start = gdp[gdp['Quater']==start_q].index[0]\n",
    "    gdp_end = gdp[gdp['Quater']==end_q].index[0]\n",
    "    gdp = gdp[gdp_start:gdp_end+1]\n",
    "    \n",
    "    min_id = gdp.GDP.idxmin() # = 37\n",
    "    \n",
    "    return gdp.loc[min_id].Quater\n",
    "get_recession_bottom()\n"
   ]
  },
  {
   "cell_type": "code",
   "execution_count": null,
   "metadata": {
    "scrolled": true,
    "umich_part_id": "025",
    "umich_partlist_id": "004"
   },
   "outputs": [],
   "source": [
    "def convert_housing_data_to_quarters():\n",
    "    '''Converts the housing data to quarters and returns it as mean \n",
    "    values in a dataframe. This dataframe should be a dataframe with\n",
    "    columns for 2000q1 through 2016q3, and should have a multi-index\n",
    "    in the shape of [\"State\",\"RegionName\"].\n",
    "    \n",
    "    Note: Quarters are defined in the assignment description, they are\n",
    "    not arbitrary three month periods.\n",
    "    \n",
    "    The resulting dataframe should have 67 columns, and 10,730 rows.\n",
    "    '''\n",
    "    #states = {'OH': 'Ohio', 'KY': 'Kentucky', 'AS': 'American Samoa', 'NV': 'Nevada', 'WY': 'Wyoming', 'NA': 'National', 'AL': 'Alabama', 'MD': 'Maryland', 'AK': 'Alaska', 'UT': 'Utah', 'OR': 'Oregon', 'MT': 'Montana', 'IL': 'Illinois', 'TN': 'Tennessee', 'DC': 'District of Columbia', 'VT': 'Vermont', 'ID': 'Idaho', 'AR': 'Arkansas', 'ME': 'Maine', 'WA': 'Washington', 'HI': 'Hawaii', 'WI': 'Wisconsin', 'MI': 'Michigan', 'IN': 'Indiana', 'NJ': 'New Jersey', 'AZ': 'Arizona', 'GU': 'Guam', 'MS': 'Mississippi', 'PR': 'Puerto Rico', 'NC': 'North Carolina', 'TX': 'Texas', 'SD': 'South Dakota', 'MP': 'Northern Mariana Islands', 'IA': 'Iowa', 'MO': 'Missouri', 'CT': 'Connecticut', 'WV': 'West Virginia', 'SC': 'South Carolina', 'LA': 'Louisiana', 'KS': 'Kansas', 'NY': 'New York', 'NE': 'Nebraska', 'OK': 'Oklahoma', 'FL': 'Florida', 'CA': 'California', 'CO': 'Colorado', 'PA': 'Pennsylvania', 'DE': 'Delaware', 'NM': 'New Mexico', 'RI': 'Rhode Island', 'MN': 'Minnesota', 'VI': 'Virgin Islands', 'NH': 'New Hampshire', 'MA': 'Massachusetts', 'GA': 'Georgia', 'ND': 'North Dakota', 'VA': 'Virginia'}\n",
    "    housingdf = pd.read_csv('City_Zhvi_AllHomes.csv')\n",
    "    housingdf['State'] = housingdf['State'].map(states)\n",
    "    housingdf.drop(['Metro','CountyName','RegionID','SizeRank'],axis=1,inplace=True)\n",
    "    housingdf.set_index([\"State\", \"RegionName\"], inplace = True)\n",
    "    \n",
    "    housingdf = housingdf.groupby(pd.PeriodIndex(housingdf.columns, freq='Q'), axis=1).mean().rename(columns=lambda c: str(c).lower())\n",
    "    housingdf = housingdf.loc[:,'2000q1':'2016q3']\n",
    "    \n",
    "    return housingdf\n",
    "\n",
    "convert_housing_data_to_quarters()"
   ]
  },
  {
   "cell_type": "code",
   "execution_count": null,
   "metadata": {
    "umich_part_id": "026",
    "umich_partlist_id": "004"
   },
   "outputs": [],
   "source": [
    "def run_ttest():\n",
    "    '''First creates new data showing the decline or growth of housing prices\n",
    "    between the recession start and the recession bottom. Then runs a ttest\n",
    "    comparing the university town values to the non-university towns values, \n",
    "    return whether the alternative hypothesis (that the two groups are the same)\n",
    "    is true or not as well as the p-value of the confidence. \n",
    "    \n",
    "    Return the tuple (different, p, better) where different=True if the t-test is\n",
    "    True at a p<0.01 (we reject the null hypothesis), or different=False if \n",
    "    otherwise (we cannot reject the null hypothesis). The variable p should\n",
    "    be equal to the exact p value returned from scipy.stats.ttest_ind(). The\n",
    "    value for better should be either \"university town\" or \"non-university town\"\n",
    "    depending on which has a lower mean price ratio (which is equivilent to a\n",
    "    reduced market loss).'''\n",
    "    housing_df = convert_housing_data_to_quarters()\n",
    "    recs_start = get_recession_start()\n",
    "    recs_bottom = get_recession_bottom()\n",
    "    \n",
    "    df = housing_df.copy()\n",
    "    df = df.loc[:,recs_start:recs_bottom]\n",
    "    df.reset_index(inplace = True)\n",
    "    df['Diff']=(df[recs_bottom] - df[recs_start])/(df[recs_start])\n",
    "    \n",
    "    unitown_df = pd.DataFrame(get_list_of_university_towns()['RegionName'])\n",
    "    unitown_df['check_uni_town']=1\n",
    "    unitown_df = unitown_df.drop_duplicates()\n",
    "    \n",
    "    \n",
    "    merged_data = pd.merge(df, unitown_df, on='RegionName', how='left')\n",
    "    merged_data = merged_data.fillna(0)\n",
    "    \n",
    "    false_uni = merged_data[merged_data['check_uni_town'] ==0].loc[:,'Diff'].dropna()\n",
    "    true_uni = merged_data[merged_data['check_uni_town'] ==1].loc[:,'Diff'].dropna()\n",
    "    \n",
    "\n",
    "    def better():\n",
    "        if false_uni.mean() > true_uni.mean():\n",
    "            return 'non-univeristy town'\n",
    "        else:\n",
    "            return 'university town'\n",
    "        \n",
    "    \n",
    "    \n",
    "    p_val = list(ttest_ind(false_uni, true_uni))[1]\n",
    "    \n",
    "    if p_val < 0.05:\n",
    "        sigfig = True\n",
    "    else:\n",
    "        sigfig = False\n",
    "    \n",
    "    r = (sigfig, p_val, better())\n",
    "    return r\n",
    "run_ttest()"
   ]
  },
  {
   "cell_type": "code",
   "execution_count": null,
   "metadata": {},
   "outputs": [],
   "source": []
  },
  {
   "cell_type": "code",
   "execution_count": null,
   "metadata": {},
   "outputs": [],
   "source": []
  }
 ],
 "metadata": {
  "coursera": {
   "course_slug": "python-data-analysis",
   "graded_item_id": "Il9Fx",
   "launcher_item_id": "TeDW0",
   "part_id": "WGlun"
  },
  "kernelspec": {
   "display_name": "Python 3",
   "language": "python",
   "name": "python3"
  },
  "language_info": {
   "codemirror_mode": {
    "name": "ipython",
    "version": 3
   },
   "file_extension": ".py",
   "mimetype": "text/x-python",
   "name": "python",
   "nbconvert_exporter": "python",
   "pygments_lexer": "ipython3",
   "version": "3.8.5"
  },
  "umich": {
   "id": "Assignment 4",
   "version": "1.1"
  }
 },
 "nbformat": 4,
 "nbformat_minor": 1
}
